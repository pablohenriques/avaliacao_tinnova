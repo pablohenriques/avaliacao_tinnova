{
 "cells": [
  {
   "cell_type": "code",
   "execution_count": 1,
   "outputs": [],
   "source": [
    "def acumulador_multiplos_3_e_5(numero: int) -> int:\n",
    "    sequencia: list = [valor for valor in range(numero)]\n",
    "    total: int = 0\n",
    "\n",
    "    for n in sequencia:\n",
    "        if (n % 3 == 0) or (n % 5 == 0):\n",
    "            total += n\n",
    "\n",
    "    return total"
   ],
   "metadata": {
    "collapsed": false,
    "pycharm": {
     "name": "#%%\n"
    }
   }
  },
  {
   "cell_type": "code",
   "execution_count": 4,
   "outputs": [
    {
     "name": "stderr",
     "output_type": "stream",
     "text": [
      "test_acumulador_multiplos_3_e_5 (__main__.TestExercicio4) ... ok\n",
      "\n",
      "----------------------------------------------------------------------\n",
      "Ran 1 test in 0.007s\n",
      "\n",
      "OK\n"
     ]
    },
    {
     "data": {
      "text/plain": "<unittest.main.TestProgram at 0x7f6f6c546f40>"
     },
     "execution_count": 4,
     "metadata": {},
     "output_type": "execute_result"
    }
   ],
   "source": [
    "from unittest import TestCase, main\n",
    "\n",
    "\n",
    "class TestExercicio4(TestCase):\n",
    "\n",
    "    def setUp(self):\n",
    "        self.resultado_soma = 23\n",
    "\n",
    "    def test_acumulador_multiplos_3_e_5(self):\n",
    "        numero = 10\n",
    "        teste = acumulador_multiplos_3_e_5(numero)\n",
    "        self.assertEqual(teste, self.resultado_soma)\n",
    "\n",
    "main(argv=[''], verbosity=2, exit=False)"
   ],
   "metadata": {
    "collapsed": false,
    "pycharm": {
     "name": "#%%\n"
    }
   }
  },
  {
   "cell_type": "code",
   "execution_count": null,
   "outputs": [],
   "source": [],
   "metadata": {
    "collapsed": false,
    "pycharm": {
     "name": "#%%\n"
    }
   }
  }
 ],
 "metadata": {
  "kernelspec": {
   "display_name": "Python 3",
   "language": "python",
   "name": "python3"
  },
  "language_info": {
   "codemirror_mode": {
    "name": "ipython",
    "version": 2
   },
   "file_extension": ".py",
   "mimetype": "text/x-python",
   "name": "python",
   "nbconvert_exporter": "python",
   "pygments_lexer": "ipython2",
   "version": "2.7.6"
  }
 },
 "nbformat": 4,
 "nbformat_minor": 0
}