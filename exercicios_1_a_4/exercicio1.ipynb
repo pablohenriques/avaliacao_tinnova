{
 "cells": [
  {
   "cell_type": "code",
   "execution_count": 5,
   "outputs": [],
   "source": [
    "class Votacao:\n",
    "\n",
    "    def __init__(self,\n",
    "                 total_votos: int,\n",
    "                 votos_validos: int,\n",
    "                 votos_brancos: int,\n",
    "                 votos_nulos: int) -> None:\n",
    "        self.total_votos: int = total_votos\n",
    "        self.votos_validos: int = votos_validos\n",
    "        self.votos_brancos: int = votos_brancos\n",
    "        self.votos_nulos: int = votos_nulos\n",
    "\n",
    "    def calcular_percentual_votos_validos(self) -> float:\n",
    "        resultado: float = (100 * self.votos_validos) / self.total_votos\n",
    "        return resultado\n",
    "\n",
    "    def calcular_percentual_votos_brancos(self) -> float:\n",
    "        resultado: float = (100 * self.votos_brancos) / self.total_votos\n",
    "        return resultado\n",
    "\n",
    "    def calcular_percentual_votos_nulos(self) -> float:\n",
    "        resultado: float = (100 * self.votos_nulos) / self.total_votos\n",
    "        return resultado"
   ],
   "metadata": {
    "collapsed": false,
    "pycharm": {
     "name": "#%%\n"
    }
   }
  },
  {
   "cell_type": "code",
   "execution_count": 16,
   "outputs": [],
   "source": [],
   "metadata": {
    "collapsed": false,
    "pycharm": {
     "name": "#%%\n"
    }
   }
  },
  {
   "cell_type": "code",
   "execution_count": 17,
   "outputs": [
    {
     "name": "stderr",
     "output_type": "stream",
     "text": [
      "test_votos_brancos (__main__.TesteExecicio1) ... ok\n",
      "test_votos_nulos (__main__.TesteExecicio1) ... ok\n",
      "test_votos_validos (__main__.TesteExecicio1) ... ok\n",
      "\n",
      "----------------------------------------------------------------------\n",
      "Ran 3 tests in 0.007s\n",
      "\n",
      "OK\n"
     ]
    },
    {
     "data": {
      "text/plain": "<unittest.main.TestProgram at 0x7ff348e3e730>"
     },
     "execution_count": 17,
     "metadata": {},
     "output_type": "execute_result"
    }
   ],
   "source": [
    "from unittest import TestCase, main\n",
    "\n",
    "\n",
    "class TesteExecicio1(TestCase):\n",
    "\n",
    "    def setUp(self):\n",
    "        self.apuracao = Votacao(1000, 800, 150, 50)\n",
    "\n",
    "    def test_votos_validos(self):\n",
    "        percentual = self.apuracao.calcular_percentual_votos_validos()\n",
    "        self.assertEqual(percentual, 80)\n",
    "\n",
    "    def test_votos_brancos(self):\n",
    "        percentual = self.apuracao.calcular_percentual_votos_brancos()\n",
    "        self.assertEqual(percentual, 15)\n",
    "\n",
    "    def test_votos_nulos(self):\n",
    "        percentual = self.apuracao.calcular_percentual_votos_nulos()\n",
    "        self.assertEqual(percentual, 5)\n",
    "\n",
    "main(argv=[''], verbosity=2, exit=False)"
   ],
   "metadata": {
    "collapsed": false,
    "pycharm": {
     "name": "#%%\n"
    }
   }
  },
  {
   "cell_type": "code",
   "execution_count": null,
   "outputs": [],
   "source": [],
   "metadata": {
    "collapsed": false,
    "pycharm": {
     "name": "#%%\n"
    }
   }
  }
 ],
 "metadata": {
  "kernelspec": {
   "display_name": "Python 3",
   "language": "python",
   "name": "python3"
  },
  "language_info": {
   "codemirror_mode": {
    "name": "ipython",
    "version": 2
   },
   "file_extension": ".py",
   "mimetype": "text/x-python",
   "name": "python",
   "nbconvert_exporter": "python",
   "pygments_lexer": "ipython2",
   "version": "2.7.6"
  }
 },
 "nbformat": 4,
 "nbformat_minor": 0
}