{
 "cells": [
  {
   "cell_type": "code",
   "execution_count": 1,
   "outputs": [],
   "source": [
    "def ordenar_lista_bubble_sort(lista: list) -> list:\n",
    "    comprimento_lista: int = len(lista)\n",
    "    comprimento_temporario: int = comprimento_lista - 1\n",
    "\n",
    "    for _ in range(comprimento_lista):\n",
    "\n",
    "        if comprimento_temporario > 1:\n",
    "            for indice in range(comprimento_temporario):\n",
    "                if lista[indice] > lista[indice + 1]:\n",
    "                    aux: int = lista[indice + 1]\n",
    "                    lista[indice + 1] = lista[indice]\n",
    "                    lista[indice] = aux\n",
    "\n",
    "        comprimento_temporario -= 1\n",
    "\n",
    "    return lista"
   ],
   "metadata": {
    "collapsed": false,
    "pycharm": {
     "name": "#%%\n"
    }
   }
  },
  {
   "cell_type": "code",
   "execution_count": 2,
   "outputs": [
    {
     "name": "stderr",
     "output_type": "stream",
     "text": [
      "test_ordenacao_bubble_sort (__main__.TestExercicio2) ... ok\n",
      "\n",
      "----------------------------------------------------------------------\n",
      "Ran 1 test in 0.001s\n",
      "\n",
      "OK\n"
     ]
    },
    {
     "data": {
      "text/plain": "<unittest.main.TestProgram at 0x7f2f14191070>"
     },
     "execution_count": 2,
     "metadata": {},
     "output_type": "execute_result"
    }
   ],
   "source": [
    "from unittest import TestCase, main\n",
    "\n",
    "class TestExercicio2(TestCase):\n",
    "\n",
    "    def setUp(self):\n",
    "        self.lista_teste = [5, 3, 2, 4, 7, 1, 0, 6]\n",
    "        self.lista_resultado = [0, 1, 2, 3, 4, 5, 6, 7]\n",
    "\n",
    "    def test_ordenacao_bubble_sort(self):\n",
    "        lista_ordenada = ordenar_lista_bubble_sort(self.lista_teste)\n",
    "        self.assertEqual(lista_ordenada, self.lista_resultado)\n",
    "\n",
    "main(argv=[''], verbosity=2, exit=False)"
   ],
   "metadata": {
    "collapsed": false,
    "pycharm": {
     "name": "#%%\n"
    }
   }
  },
  {
   "cell_type": "code",
   "execution_count": null,
   "outputs": [],
   "source": [],
   "metadata": {
    "collapsed": false,
    "pycharm": {
     "name": "#%%\n"
    }
   }
  }
 ],
 "metadata": {
  "kernelspec": {
   "display_name": "Python 3",
   "language": "python",
   "name": "python3"
  },
  "language_info": {
   "codemirror_mode": {
    "name": "ipython",
    "version": 2
   },
   "file_extension": ".py",
   "mimetype": "text/x-python",
   "name": "python",
   "nbconvert_exporter": "python",
   "pygments_lexer": "ipython2",
   "version": "2.7.6"
  }
 },
 "nbformat": 4,
 "nbformat_minor": 0
}